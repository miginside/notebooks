{
 "cells": [
  {
   "cell_type": "code",
   "execution_count": null,
   "metadata": {},
   "outputs": [],
   "source": [
    "import requests\n",
    "import pandas as pd\n",
    "from math import ceil\n",
    "from collections import defaultdict\n",
    "\n",
    "PAGE_SIZE = 100\n",
    "NB_DAYS = [1, 7, 30, 90, 360]\n",
    "NB_RATES_PER_DAY=3\n",
    "\n",
    "TICKER=\"SNX_USDT\"\n",
    "# mexc api: https://mxcdevelop.github.io/apidocs/contract_v1_en/#get-contract-risk-fund-balance-history\n",
    "# note: Rate limit:20 times/2 seconds\n",
    "\n",
    "df = pd.DataFrame()  # create new dataframe\n",
    "\n",
    "nb_pages = ceil((NB_DAYS[-1]*NB_RATES_PER_DAY)/PAGE_SIZE)   #  e.g. 360 * 3 / 100 = 1080 => 11 pages of 100\n",
    "\n",
    "for i in range(1, nb_pages+1):  # i from page_num 1 to x non-inclusive\n",
    "    url= f\"https://contract.mexc.com/api/v1/contract/funding_rate/history?symbol={TICKER}&page_num={i}&page_size=100\"\n",
    "    print(f\"sending request to: '{url}'\")\n",
    "    rq = requests.get(url)\n",
    "    rp = rq.json()\n",
    "    df = df.append(pd.json_normalize(rp['data']['resultList']))\n",
    "\n",
    "len_df = df.shape[0]\n",
    "print(f\"number of rows: {len_df}\")"
   ]
  },
  {
   "cell_type": "code",
   "execution_count": null,
   "metadata": {},
   "outputs": [],
   "source": [
    "df['time'] = pd.to_datetime(df['settleTime'], unit='ms')\n",
    "\n",
    "pd.set_option('display.min_rows', 1000)\n",
    "pd.set_option('display.max_rows', 20)  \n",
    "pd.set_option('display.max_columns', None)  \n",
    "pd.set_option('display.max_colwidth', None) \n",
    "\n",
    "df = df.reset_index(drop=True)\n"
   ]
  },
  {
   "cell_type": "code",
   "execution_count": 11,
   "metadata": {},
   "outputs": [
    {
     "name": "stdout",
     "output_type": "stream",
     "text": [
      ">> last funding rate time: 2022-08-31 16:00:00\n"
     ]
    },
    {
     "data": {
      "text/html": [
       "<div>\n",
       "<style scoped>\n",
       "    .dataframe tbody tr th:only-of-type {\n",
       "        vertical-align: middle;\n",
       "    }\n",
       "\n",
       "    .dataframe tbody tr th {\n",
       "        vertical-align: top;\n",
       "    }\n",
       "\n",
       "    .dataframe thead th {\n",
       "        text-align: right;\n",
       "    }\n",
       "</style>\n",
       "<table border=\"1\" class=\"dataframe\">\n",
       "  <thead>\n",
       "    <tr style=\"text-align: right;\">\n",
       "      <th></th>\n",
       "      <th>Name</th>\n",
       "      <th>Last</th>\n",
       "      <th>1d sum</th>\n",
       "      <th>1d avg</th>\n",
       "      <th>7d sum</th>\n",
       "      <th>7d avg</th>\n",
       "      <th>30d sum</th>\n",
       "      <th>30d avg</th>\n",
       "      <th>90d sum</th>\n",
       "      <th>90d avg</th>\n",
       "      <th>360d sum</th>\n",
       "      <th>360d avg</th>\n",
       "    </tr>\n",
       "  </thead>\n",
       "  <tbody>\n",
       "    <tr>\n",
       "      <th>0</th>\n",
       "      <td>SNX_USDT</td>\n",
       "      <td>-0.000266</td>\n",
       "      <td>-0.001987</td>\n",
       "      <td>-0.000662</td>\n",
       "      <td>-0.008232</td>\n",
       "      <td>-0.000392</td>\n",
       "      <td>-0.020745</td>\n",
       "      <td>-0.00023</td>\n",
       "      <td>-0.058808</td>\n",
       "      <td>-0.000218</td>\n",
       "      <td>0.044772</td>\n",
       "      <td>0.000041</td>\n",
       "    </tr>\n",
       "  </tbody>\n",
       "</table>\n",
       "</div>"
      ],
      "text/plain": [
       "       Name      Last    1d sum    1d avg    7d sum    7d avg   30d sum  \\\n",
       "0  SNX_USDT -0.000266 -0.001987 -0.000662 -0.008232 -0.000392 -0.020745   \n",
       "\n",
       "   30d avg   90d sum   90d avg  360d sum  360d avg  \n",
       "0 -0.00023 -0.058808 -0.000218  0.044772  0.000041  "
      ]
     },
     "execution_count": 11,
     "metadata": {},
     "output_type": "execute_result"
    }
   ],
   "source": [
    "result = {'Name': TICKER, 'Last': df.iloc[0]['fundingRate']}\n",
    "\n",
    "for i in NB_DAYS:\n",
    "    \n",
    "    idx = i*NB_RATES_PER_DAY\n",
    "    colname_sum = f'{i}d sum'\n",
    "    colname_avg = f'{i}d avg'\n",
    "\n",
    "    if len_df >= idx:        \n",
    "        df[colname_sum]=df['fundingRate'].rolling(idx).sum()\n",
    "        df[colname_avg]=df['fundingRate'].rolling(idx).mean()\n",
    "        result[colname_sum] = df.iloc[idx-1][colname_sum]        \n",
    "        result[colname_avg] = df.iloc[idx-1][colname_avg]\n",
    "    else:\n",
    "        result[colname_sum] = float('NaN')\n",
    "        result[colname_avg] = float('NaN')\n",
    "\n",
    "\n",
    "print(f\">> last funding rate time: {df.iloc[0]['time']}\")\n",
    "dfr = pd.DataFrame([result])\n",
    "dfr"
   ]
  }
 ],
 "metadata": {
  "kernelspec": {
   "display_name": "bktest_38",
   "language": "python",
   "name": "bktest_38"
  },
  "language_info": {
   "codemirror_mode": {
    "name": "ipython",
    "version": 3
   },
   "file_extension": ".py",
   "mimetype": "text/x-python",
   "name": "python",
   "nbconvert_exporter": "python",
   "pygments_lexer": "ipython3",
   "version": "3.8.8"
  },
  "orig_nbformat": 4,
  "vscode": {
   "interpreter": {
    "hash": "c4300dc9a4213dcb36a7f0d761d9d9e6b4e3246d109fe82e8954fac61544708c"
   }
  }
 },
 "nbformat": 4,
 "nbformat_minor": 2
}
